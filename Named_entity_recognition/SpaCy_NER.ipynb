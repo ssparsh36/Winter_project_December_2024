{
 "cells": [
  {
   "cell_type": "code",
   "execution_count": null,
   "metadata": {},
   "outputs": [],
   "source": [
    "\n",
    "!pip install pytesseract pdfplumber transformers spacy\n",
    "!python -m spacy download en_core_web_trf"
   ]
  },
  {
   "cell_type": "code",
   "execution_count": null,
   "metadata": {},
   "outputs": [],
   "source": [
    "import pytesseract\n",
    "import pdfplumber\n",
    "from transformers import pipeline\n",
    "import spacy\n",
    "import json"
   ]
  },
  {
   "cell_type": "code",
   "execution_count": null,
   "metadata": {},
   "outputs": [],
   "source": [
    "text=''\n",
    "nlp = spacy.load(\"en_core_web_trf\")\n",
    "\n",
    "doc = nlp(text[:1000000])\n",
    "\n",
    "entities = []\n",
    "for ent in doc.ents:\n",
    "    entities.append({\n",
    "        \"text\": ent.text,\n",
    "        \"label\": ent.label_,\n",
    "        \"start\": ent.start_char,\n",
    "        \"end\": ent.end_char\n",
    "    })\n",
    "\n"
   ]
  },
  {
   "cell_type": "code",
   "execution_count": null,
   "metadata": {},
   "outputs": [],
   "source": [
    "print(\"Extracted Entities:\")\n",
    "for e in entities[:10]:\n",
    "    print(e)"
   ]
  },
  {
   "cell_type": "code",
   "execution_count": null,
   "metadata": {},
   "outputs": [],
   "source": [
    "structured_data = {\n",
    "    \"entities\": entities\n",
    "}\n",
    "\n",
    "with open(\"structured_data.json\", \"w\") as f:\n",
    "    json.dump(structured_data, f, indent=4)\n",
    "\n",
    "print(\"Structured Data Saved: structured_data.json\")"
   ]
  }
 ],
 "metadata": {
  "language_info": {
   "name": "python"
  }
 },
 "nbformat": 4,
 "nbformat_minor": 2
}
